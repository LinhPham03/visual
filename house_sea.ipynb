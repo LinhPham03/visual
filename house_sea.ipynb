{
 "cells": [
  {
   "cell_type": "code",
   "execution_count": 1,
   "metadata": {},
   "outputs": [
    {
     "data": {
      "text/html": [
       "<div>\n",
       "<style scoped>\n",
       "    .dataframe tbody tr th:only-of-type {\n",
       "        vertical-align: middle;\n",
       "    }\n",
       "\n",
       "    .dataframe tbody tr th {\n",
       "        vertical-align: top;\n",
       "    }\n",
       "\n",
       "    .dataframe thead th {\n",
       "        text-align: right;\n",
       "    }\n",
       "</style>\n",
       "<table border=\"1\" class=\"dataframe\">\n",
       "  <thead>\n",
       "    <tr style=\"text-align: right;\">\n",
       "      <th></th>\n",
       "      <th>area</th>\n",
       "      <th>price</th>\n",
       "      <th>postDate</th>\n",
       "      <th>land_certificate</th>\n",
       "      <th>house_direction</th>\n",
       "      <th>balcony_direction</th>\n",
       "      <th>toilet</th>\n",
       "      <th>bedroom</th>\n",
       "      <th>floor</th>\n",
       "      <th>lat</th>\n",
       "      <th>long</th>\n",
       "      <th>property_type</th>\n",
       "    </tr>\n",
       "  </thead>\n",
       "  <tbody>\n",
       "    <tr>\n",
       "      <th>0</th>\n",
       "      <td>50.0</td>\n",
       "      <td>14700.0</td>\n",
       "      <td>44197</td>\n",
       "      <td>So do</td>\n",
       "      <td>NaN</td>\n",
       "      <td>NaN</td>\n",
       "      <td>4.0</td>\n",
       "      <td>6.0</td>\n",
       "      <td>6.0</td>\n",
       "      <td>21.015698</td>\n",
       "      <td>105.824583</td>\n",
       "      <td>trong ngo</td>\n",
       "    </tr>\n",
       "    <tr>\n",
       "      <th>1</th>\n",
       "      <td>57.0</td>\n",
       "      <td>4200.0</td>\n",
       "      <td>44265</td>\n",
       "      <td>So do</td>\n",
       "      <td>Nam</td>\n",
       "      <td>Nam</td>\n",
       "      <td>3.0</td>\n",
       "      <td>8.0</td>\n",
       "      <td>4.0</td>\n",
       "      <td>21.025208</td>\n",
       "      <td>105.833111</td>\n",
       "      <td>trong ngo</td>\n",
       "    </tr>\n",
       "    <tr>\n",
       "      <th>2</th>\n",
       "      <td>62.0</td>\n",
       "      <td>11000.0</td>\n",
       "      <td>44268</td>\n",
       "      <td>So do</td>\n",
       "      <td>NaN</td>\n",
       "      <td>dong-Nam</td>\n",
       "      <td>6.0</td>\n",
       "      <td>5.0</td>\n",
       "      <td>6.0</td>\n",
       "      <td>21.025379</td>\n",
       "      <td>105.801011</td>\n",
       "      <td>trong ngo</td>\n",
       "    </tr>\n",
       "    <tr>\n",
       "      <th>3</th>\n",
       "      <td>26.0</td>\n",
       "      <td>2900.0</td>\n",
       "      <td>44292</td>\n",
       "      <td>So do</td>\n",
       "      <td>NaN</td>\n",
       "      <td>NaN</td>\n",
       "      <td>4.0</td>\n",
       "      <td>3.0</td>\n",
       "      <td>4.0</td>\n",
       "      <td>21.014325</td>\n",
       "      <td>105.834918</td>\n",
       "      <td>trong ngo</td>\n",
       "    </tr>\n",
       "    <tr>\n",
       "      <th>4</th>\n",
       "      <td>40.0</td>\n",
       "      <td>3950.0</td>\n",
       "      <td>44292</td>\n",
       "      <td>So do</td>\n",
       "      <td>NaN</td>\n",
       "      <td>NaN</td>\n",
       "      <td>NaN</td>\n",
       "      <td>NaN</td>\n",
       "      <td>5.0</td>\n",
       "      <td>21.009862</td>\n",
       "      <td>105.838083</td>\n",
       "      <td>trong ngo</td>\n",
       "    </tr>\n",
       "    <tr>\n",
       "      <th>...</th>\n",
       "      <td>...</td>\n",
       "      <td>...</td>\n",
       "      <td>...</td>\n",
       "      <td>...</td>\n",
       "      <td>...</td>\n",
       "      <td>...</td>\n",
       "      <td>...</td>\n",
       "      <td>...</td>\n",
       "      <td>...</td>\n",
       "      <td>...</td>\n",
       "      <td>...</td>\n",
       "      <td>...</td>\n",
       "    </tr>\n",
       "    <tr>\n",
       "      <th>666</th>\n",
       "      <td>168.0</td>\n",
       "      <td>23500.0</td>\n",
       "      <td>44325</td>\n",
       "      <td>NaN</td>\n",
       "      <td>NaN</td>\n",
       "      <td>NaN</td>\n",
       "      <td>3.0</td>\n",
       "      <td>3.0</td>\n",
       "      <td>3.0</td>\n",
       "      <td>21.000823</td>\n",
       "      <td>105.829097</td>\n",
       "      <td>mat pho</td>\n",
       "    </tr>\n",
       "    <tr>\n",
       "      <th>667</th>\n",
       "      <td>65.0</td>\n",
       "      <td>17500.0</td>\n",
       "      <td>44325</td>\n",
       "      <td>So do</td>\n",
       "      <td>NaN</td>\n",
       "      <td>NaN</td>\n",
       "      <td>NaN</td>\n",
       "      <td>6.0</td>\n",
       "      <td>5.0</td>\n",
       "      <td>21.011495</td>\n",
       "      <td>105.816666</td>\n",
       "      <td>mat pho</td>\n",
       "    </tr>\n",
       "    <tr>\n",
       "      <th>668</th>\n",
       "      <td>60.0</td>\n",
       "      <td>17500.0</td>\n",
       "      <td>44197</td>\n",
       "      <td>NaN</td>\n",
       "      <td>NaN</td>\n",
       "      <td>NaN</td>\n",
       "      <td>NaN</td>\n",
       "      <td>NaN</td>\n",
       "      <td>NaN</td>\n",
       "      <td>21.011495</td>\n",
       "      <td>105.816666</td>\n",
       "      <td>mat pho</td>\n",
       "    </tr>\n",
       "    <tr>\n",
       "      <th>669</th>\n",
       "      <td>45.0</td>\n",
       "      <td>24800.0</td>\n",
       "      <td>44197</td>\n",
       "      <td>NaN</td>\n",
       "      <td>NaN</td>\n",
       "      <td>NaN</td>\n",
       "      <td>NaN</td>\n",
       "      <td>NaN</td>\n",
       "      <td>NaN</td>\n",
       "      <td>21.016106</td>\n",
       "      <td>105.832157</td>\n",
       "      <td>mat pho</td>\n",
       "    </tr>\n",
       "    <tr>\n",
       "      <th>670</th>\n",
       "      <td>107.0</td>\n",
       "      <td>45000.0</td>\n",
       "      <td>44325</td>\n",
       "      <td>So do</td>\n",
       "      <td>NaN</td>\n",
       "      <td>NaN</td>\n",
       "      <td>NaN</td>\n",
       "      <td>NaN</td>\n",
       "      <td>5.0</td>\n",
       "      <td>21.009123</td>\n",
       "      <td>105.824428</td>\n",
       "      <td>mat pho</td>\n",
       "    </tr>\n",
       "  </tbody>\n",
       "</table>\n",
       "<p>671 rows × 12 columns</p>\n",
       "</div>"
      ],
      "text/plain": [
       "      area    price  postDate land_certificate house_direction  \\\n",
       "0     50.0  14700.0     44197            So do             NaN   \n",
       "1     57.0   4200.0     44265            So do             Nam   \n",
       "2     62.0  11000.0     44268            So do             NaN   \n",
       "3     26.0   2900.0     44292            So do             NaN   \n",
       "4     40.0   3950.0     44292            So do             NaN   \n",
       "..     ...      ...       ...              ...             ...   \n",
       "666  168.0  23500.0     44325              NaN             NaN   \n",
       "667   65.0  17500.0     44325            So do             NaN   \n",
       "668   60.0  17500.0     44197              NaN             NaN   \n",
       "669   45.0  24800.0     44197              NaN             NaN   \n",
       "670  107.0  45000.0     44325            So do             NaN   \n",
       "\n",
       "    balcony_direction  toilet  bedroom  floor        lat        long  \\\n",
       "0                 NaN     4.0      6.0    6.0  21.015698  105.824583   \n",
       "1                 Nam     3.0      8.0    4.0  21.025208  105.833111   \n",
       "2            dong-Nam     6.0      5.0    6.0  21.025379  105.801011   \n",
       "3                 NaN     4.0      3.0    4.0  21.014325  105.834918   \n",
       "4                 NaN     NaN      NaN    5.0  21.009862  105.838083   \n",
       "..                ...     ...      ...    ...        ...         ...   \n",
       "666               NaN     3.0      3.0    3.0  21.000823  105.829097   \n",
       "667               NaN     NaN      6.0    5.0  21.011495  105.816666   \n",
       "668               NaN     NaN      NaN    NaN  21.011495  105.816666   \n",
       "669               NaN     NaN      NaN    NaN  21.016106  105.832157   \n",
       "670               NaN     NaN      NaN    5.0  21.009123  105.824428   \n",
       "\n",
       "    property_type  \n",
       "0       trong ngo  \n",
       "1       trong ngo  \n",
       "2       trong ngo  \n",
       "3       trong ngo  \n",
       "4       trong ngo  \n",
       "..            ...  \n",
       "666       mat pho  \n",
       "667       mat pho  \n",
       "668       mat pho  \n",
       "669       mat pho  \n",
       "670       mat pho  \n",
       "\n",
       "[671 rows x 12 columns]"
      ]
     },
     "execution_count": 1,
     "metadata": {},
     "output_type": "execute_result"
    }
   ],
   "source": [
    "import pandas as pd\n",
    "import matplotlib.pyplot as plt\n",
    "df = pd.read_csv('D:\\\\raw\\\\house_price_Dống-Da_Hà-Nội_subdata.csv')\n",
    "df"
   ]
  },
  {
   "cell_type": "code",
   "execution_count": 2,
   "metadata": {},
   "outputs": [
    {
     "data": {
      "text/html": [
       "<div>\n",
       "<style scoped>\n",
       "    .dataframe tbody tr th:only-of-type {\n",
       "        vertical-align: middle;\n",
       "    }\n",
       "\n",
       "    .dataframe tbody tr th {\n",
       "        vertical-align: top;\n",
       "    }\n",
       "\n",
       "    .dataframe thead th {\n",
       "        text-align: right;\n",
       "    }\n",
       "</style>\n",
       "<table border=\"1\" class=\"dataframe\">\n",
       "  <thead>\n",
       "    <tr style=\"text-align: right;\">\n",
       "      <th></th>\n",
       "      <th>area</th>\n",
       "      <th>price</th>\n",
       "      <th>postDate</th>\n",
       "      <th>land_certificate</th>\n",
       "      <th>house_direction</th>\n",
       "      <th>balcony_direction</th>\n",
       "      <th>toilet</th>\n",
       "      <th>bedroom</th>\n",
       "      <th>floor</th>\n",
       "      <th>lat</th>\n",
       "      <th>long</th>\n",
       "      <th>property_type</th>\n",
       "    </tr>\n",
       "  </thead>\n",
       "  <tbody>\n",
       "    <tr>\n",
       "      <th>1</th>\n",
       "      <td>57.0</td>\n",
       "      <td>4200.0</td>\n",
       "      <td>44265</td>\n",
       "      <td>So do</td>\n",
       "      <td>Nam</td>\n",
       "      <td>Nam</td>\n",
       "      <td>3.0</td>\n",
       "      <td>8.0</td>\n",
       "      <td>4.0</td>\n",
       "      <td>21.025208</td>\n",
       "      <td>105.833111</td>\n",
       "      <td>trong ngo</td>\n",
       "    </tr>\n",
       "    <tr>\n",
       "      <th>7</th>\n",
       "      <td>52.2</td>\n",
       "      <td>5376.6</td>\n",
       "      <td>44292</td>\n",
       "      <td>So do</td>\n",
       "      <td>Tay-Bac</td>\n",
       "      <td>Tay-Bac</td>\n",
       "      <td>1.0</td>\n",
       "      <td>2.0</td>\n",
       "      <td>3.0</td>\n",
       "      <td>21.019078</td>\n",
       "      <td>105.819259</td>\n",
       "      <td>trong ngo</td>\n",
       "    </tr>\n",
       "    <tr>\n",
       "      <th>220</th>\n",
       "      <td>61.0</td>\n",
       "      <td>12500.0</td>\n",
       "      <td>44306</td>\n",
       "      <td>So do</td>\n",
       "      <td>dong-Nam</td>\n",
       "      <td>dong-Nam</td>\n",
       "      <td>4.0</td>\n",
       "      <td>6.0</td>\n",
       "      <td>5.0</td>\n",
       "      <td>21.009410</td>\n",
       "      <td>105.824307</td>\n",
       "      <td>trong ngo</td>\n",
       "    </tr>\n",
       "    <tr>\n",
       "      <th>223</th>\n",
       "      <td>37.0</td>\n",
       "      <td>3800.0</td>\n",
       "      <td>44306</td>\n",
       "      <td>So do</td>\n",
       "      <td>dong</td>\n",
       "      <td>dong</td>\n",
       "      <td>3.0</td>\n",
       "      <td>3.0</td>\n",
       "      <td>4.0</td>\n",
       "      <td>21.012872</td>\n",
       "      <td>105.833187</td>\n",
       "      <td>trong ngo</td>\n",
       "    </tr>\n",
       "    <tr>\n",
       "      <th>230</th>\n",
       "      <td>35.0</td>\n",
       "      <td>4250.0</td>\n",
       "      <td>44306</td>\n",
       "      <td>So do</td>\n",
       "      <td>Bac</td>\n",
       "      <td>Bac</td>\n",
       "      <td>4.0</td>\n",
       "      <td>3.0</td>\n",
       "      <td>5.0</td>\n",
       "      <td>21.024038</td>\n",
       "      <td>105.802626</td>\n",
       "      <td>trong ngo</td>\n",
       "    </tr>\n",
       "    <tr>\n",
       "      <th>278</th>\n",
       "      <td>50.0</td>\n",
       "      <td>14600.0</td>\n",
       "      <td>44312</td>\n",
       "      <td>So do</td>\n",
       "      <td>Tay-Nam</td>\n",
       "      <td>Tay-Nam</td>\n",
       "      <td>4.0</td>\n",
       "      <td>6.0</td>\n",
       "      <td>4.0</td>\n",
       "      <td>21.016075</td>\n",
       "      <td>105.824436</td>\n",
       "      <td>trong ngo</td>\n",
       "    </tr>\n",
       "    <tr>\n",
       "      <th>382</th>\n",
       "      <td>51.0</td>\n",
       "      <td>3900.0</td>\n",
       "      <td>44323</td>\n",
       "      <td>So do</td>\n",
       "      <td>Tay-Nam</td>\n",
       "      <td>Tay-Nam</td>\n",
       "      <td>4.0</td>\n",
       "      <td>4.0</td>\n",
       "      <td>5.0</td>\n",
       "      <td>21.022578</td>\n",
       "      <td>105.831854</td>\n",
       "      <td>trong ngo</td>\n",
       "    </tr>\n",
       "    <tr>\n",
       "      <th>417</th>\n",
       "      <td>55.0</td>\n",
       "      <td>16000.0</td>\n",
       "      <td>44325</td>\n",
       "      <td>So do</td>\n",
       "      <td>dong-Nam</td>\n",
       "      <td>dong-Nam</td>\n",
       "      <td>6.0</td>\n",
       "      <td>6.0</td>\n",
       "      <td>7.0</td>\n",
       "      <td>21.012334</td>\n",
       "      <td>105.819316</td>\n",
       "      <td>trong ngo</td>\n",
       "    </tr>\n",
       "    <tr>\n",
       "      <th>419</th>\n",
       "      <td>49.0</td>\n",
       "      <td>9000.0</td>\n",
       "      <td>44325</td>\n",
       "      <td>So do</td>\n",
       "      <td>Tay-Nam</td>\n",
       "      <td>Tay-Nam</td>\n",
       "      <td>4.0</td>\n",
       "      <td>6.0</td>\n",
       "      <td>4.0</td>\n",
       "      <td>21.013450</td>\n",
       "      <td>105.815619</td>\n",
       "      <td>trong ngo</td>\n",
       "    </tr>\n",
       "    <tr>\n",
       "      <th>421</th>\n",
       "      <td>56.0</td>\n",
       "      <td>6200.0</td>\n",
       "      <td>44325</td>\n",
       "      <td>So do</td>\n",
       "      <td>Tay-Bac</td>\n",
       "      <td>dong-Nam</td>\n",
       "      <td>4.0</td>\n",
       "      <td>4.0</td>\n",
       "      <td>5.0</td>\n",
       "      <td>21.013369</td>\n",
       "      <td>105.827251</td>\n",
       "      <td>trong ngo</td>\n",
       "    </tr>\n",
       "    <tr>\n",
       "      <th>517</th>\n",
       "      <td>73.0</td>\n",
       "      <td>13700.0</td>\n",
       "      <td>44306</td>\n",
       "      <td>So do</td>\n",
       "      <td>dong</td>\n",
       "      <td>dong</td>\n",
       "      <td>5.0</td>\n",
       "      <td>6.0</td>\n",
       "      <td>5.0</td>\n",
       "      <td>21.027478</td>\n",
       "      <td>105.834293</td>\n",
       "      <td>mat pho</td>\n",
       "    </tr>\n",
       "    <tr>\n",
       "      <th>572</th>\n",
       "      <td>98.0</td>\n",
       "      <td>28000.0</td>\n",
       "      <td>44312</td>\n",
       "      <td>So do</td>\n",
       "      <td>dong-Nam</td>\n",
       "      <td>dong-Nam</td>\n",
       "      <td>7.0</td>\n",
       "      <td>9.0</td>\n",
       "      <td>6.0</td>\n",
       "      <td>21.016493</td>\n",
       "      <td>105.822814</td>\n",
       "      <td>mat pho</td>\n",
       "    </tr>\n",
       "    <tr>\n",
       "      <th>600</th>\n",
       "      <td>128.0</td>\n",
       "      <td>49000.0</td>\n",
       "      <td>44317</td>\n",
       "      <td>So do</td>\n",
       "      <td>Tay-Bac</td>\n",
       "      <td>dong-Nam</td>\n",
       "      <td>2.0</td>\n",
       "      <td>2.0</td>\n",
       "      <td>1.0</td>\n",
       "      <td>21.006694</td>\n",
       "      <td>105.835635</td>\n",
       "      <td>mat pho</td>\n",
       "    </tr>\n",
       "    <tr>\n",
       "      <th>645</th>\n",
       "      <td>58.0</td>\n",
       "      <td>18600.0</td>\n",
       "      <td>44325</td>\n",
       "      <td>So do</td>\n",
       "      <td>dong-Bac</td>\n",
       "      <td>dong-Bac</td>\n",
       "      <td>4.0</td>\n",
       "      <td>4.0</td>\n",
       "      <td>5.0</td>\n",
       "      <td>21.015811</td>\n",
       "      <td>105.824029</td>\n",
       "      <td>mat pho</td>\n",
       "    </tr>\n",
       "  </tbody>\n",
       "</table>\n",
       "</div>"
      ],
      "text/plain": [
       "      area    price  postDate land_certificate house_direction  \\\n",
       "1     57.0   4200.0     44265            So do             Nam   \n",
       "7     52.2   5376.6     44292            So do         Tay-Bac   \n",
       "220   61.0  12500.0     44306            So do        dong-Nam   \n",
       "223   37.0   3800.0     44306            So do            dong   \n",
       "230   35.0   4250.0     44306            So do             Bac   \n",
       "278   50.0  14600.0     44312            So do         Tay-Nam   \n",
       "382   51.0   3900.0     44323            So do         Tay-Nam   \n",
       "417   55.0  16000.0     44325            So do        dong-Nam   \n",
       "419   49.0   9000.0     44325            So do         Tay-Nam   \n",
       "421   56.0   6200.0     44325            So do         Tay-Bac   \n",
       "517   73.0  13700.0     44306            So do            dong   \n",
       "572   98.0  28000.0     44312            So do        dong-Nam   \n",
       "600  128.0  49000.0     44317            So do         Tay-Bac   \n",
       "645   58.0  18600.0     44325            So do        dong-Bac   \n",
       "\n",
       "    balcony_direction  toilet  bedroom  floor        lat        long  \\\n",
       "1                 Nam     3.0      8.0    4.0  21.025208  105.833111   \n",
       "7             Tay-Bac     1.0      2.0    3.0  21.019078  105.819259   \n",
       "220          dong-Nam     4.0      6.0    5.0  21.009410  105.824307   \n",
       "223              dong     3.0      3.0    4.0  21.012872  105.833187   \n",
       "230               Bac     4.0      3.0    5.0  21.024038  105.802626   \n",
       "278           Tay-Nam     4.0      6.0    4.0  21.016075  105.824436   \n",
       "382           Tay-Nam     4.0      4.0    5.0  21.022578  105.831854   \n",
       "417          dong-Nam     6.0      6.0    7.0  21.012334  105.819316   \n",
       "419           Tay-Nam     4.0      6.0    4.0  21.013450  105.815619   \n",
       "421          dong-Nam     4.0      4.0    5.0  21.013369  105.827251   \n",
       "517              dong     5.0      6.0    5.0  21.027478  105.834293   \n",
       "572          dong-Nam     7.0      9.0    6.0  21.016493  105.822814   \n",
       "600          dong-Nam     2.0      2.0    1.0  21.006694  105.835635   \n",
       "645          dong-Bac     4.0      4.0    5.0  21.015811  105.824029   \n",
       "\n",
       "    property_type  \n",
       "1       trong ngo  \n",
       "7       trong ngo  \n",
       "220     trong ngo  \n",
       "223     trong ngo  \n",
       "230     trong ngo  \n",
       "278     trong ngo  \n",
       "382     trong ngo  \n",
       "417     trong ngo  \n",
       "419     trong ngo  \n",
       "421     trong ngo  \n",
       "517       mat pho  \n",
       "572       mat pho  \n",
       "600       mat pho  \n",
       "645       mat pho  "
      ]
     },
     "execution_count": 2,
     "metadata": {},
     "output_type": "execute_result"
    }
   ],
   "source": [
    "df = df.dropna()\n",
    "df = df.drop_duplicates()\n",
    "df"
   ]
  },
  {
   "cell_type": "markdown",
   "metadata": {},
   "source": [
    "Vẽ biểu đồ xu hướng phân tích mối quan hệ giữa giá nhà với diện tích, giá nhà với số lượng phòng ngủ, nhận xét"
   ]
  },
  {
   "cell_type": "code",
   "execution_count": 3,
   "metadata": {},
   "outputs": [],
   "source": [
    "import seaborn as sns"
   ]
  },
  {
   "cell_type": "code",
   "execution_count": 4,
   "metadata": {},
   "outputs": [
    {
     "data": {
      "text/plain": [
       "<seaborn.axisgrid.FacetGrid at 0x1dcf2eeab80>"
      ]
     },
     "execution_count": 4,
     "metadata": {},
     "output_type": "execute_result"
    },
    {
     "data": {
      "image/png": "[encoded data removed]",
      "text/plain": [
       "<Figure size 360x360 with 1 Axes>"
      ]
     },
     "metadata": {
      "needs_background": "light"
     },
     "output_type": "display_data"
    }
   ],
   "source": [
    "sns.lmplot(x='price', y='area', data=df)"
   ]
  },
  {
   "cell_type": "markdown",
   "metadata": {},
   "source": [
    "- Nhận xét: Giá nhà càng cao thì diện tích căn nhà càng lớn"
   ]
  },
  {
   "cell_type": "code",
   "execution_count": 5,
   "metadata": {},
   "outputs": [
    {
     "data": {
      "text/plain": [
       "<seaborn.axisgrid.FacetGrid at 0x1dcf5de7e50>"
      ]
     },
     "execution_count": 5,
     "metadata": {},
     "output_type": "execute_result"
    },
    {
     "data": {
      "image/png": "[encoded data removed]",
      "text/plain": [
       "<Figure size 360x360 with 1 Axes>"
      ]
     },
     "metadata": {
      "needs_background": "light"
     },
     "output_type": "display_data"
    }
   ],
   "source": [
    "sns.lmplot(x='price', y='bedroom', data=df)"
   ]
  },
  {
   "cell_type": "markdown",
   "metadata": {},
   "source": [
    "- Nhận xét: Số lượng phòng ngủ không có sự thay đổi đáng kể so với giá nhà"
   ]
  },
  {
   "cell_type": "markdown",
   "metadata": {},
   "source": [
    "Vẽ biểu đồ phân bố thể hiện phân bố của giá nhà theo các hướng, nhận xét"
   ]
  },
  {
   "cell_type": "code",
   "execution_count": 7,
   "metadata": {},
   "outputs": [
    {
     "data": {
      "text/plain": [
       "<AxesSubplot:xlabel='house_direction', ylabel='price'>"
      ]
     },
     "execution_count": 7,
     "metadata": {},
     "output_type": "execute_result"
    },
    {
     "data": {
      "image/png": "[encoded data removed]",
      "text/plain": [
       "<Figure size 432x288 with 1 Axes>"
      ]
     },
     "metadata": {
      "needs_background": "light"
     },
     "output_type": "display_data"
    }
   ],
   "source": [
    "sns.violinplot(x='house_direction', y='price', data=df)"
   ]
  },
  {
   "cell_type": "markdown",
   "metadata": {},
   "source": [
    "- Nhận xét: Giá nhà hướng Tây Bắc trải dài hơn so với các hướng khác"
   ]
  },
  {
   "cell_type": "markdown",
   "metadata": {},
   "source": [
    "Vẽ biểu đồ tần số để đếm số nhà ở mỗi hướng nhà, nhận xét"
   ]
  },
  {
   "cell_type": "code",
   "execution_count": 9,
   "metadata": {},
   "outputs": [
    {
     "data": {
      "text/plain": [
       "<AxesSubplot:xlabel='house_direction', ylabel='count'>"
      ]
     },
     "execution_count": 9,
     "metadata": {},
     "output_type": "execute_result"
    },
    {
     "data": {
      "image/png": "[encoded data removed]",
      "text/plain": [
       "<Figure size 432x288 with 1 Axes>"
      ]
     },
     "metadata": {
      "needs_background": "light"
     },
     "output_type": "display_data"
    }
   ],
   "source": [
    "sns.countplot(x ='house_direction', data = df)"
   ]
  },
  {
   "cell_type": "markdown",
   "metadata": {},
   "source": [
    "Vẽ biểu đồ boxplot thể hiện phân bố của giá nhà theo các hướng, nhận xét"
   ]
  },
  {
   "cell_type": "code",
   "execution_count": 10,
   "metadata": {},
   "outputs": [
    {
     "data": {
      "text/plain": [
       "<AxesSubplot:xlabel='house_direction', ylabel='price'>"
      ]
     },
     "execution_count": 10,
     "metadata": {},
     "output_type": "execute_result"
    },
    {
     "data": {
      "image/png": "[encoded data removed]",
      "text/plain": [
       "<Figure size 432x288 with 1 Axes>"
      ]
     },
     "metadata": {
      "needs_background": "light"
     },
     "output_type": "display_data"
    }
   ],
   "source": [
    "sns.boxplot(x='house_direction', y='price', data=df)"
   ]
  }
 ],
 "metadata": {
  "kernelspec": {
   "display_name": "Python 3.9.12 ('base')",
   "language": "python",
   "name": "python3"
  },
  "language_info": {
   "codemirror_mode": {
    "name": "ipython",
    "version": 3
   },
   "file_extension": ".py",
   "mimetype": "text/x-python",
   "name": "python",
   "nbconvert_exporter": "python",
   "pygments_lexer": "ipython3",
   "version": "3.9.12"
  },
  "orig_nbformat": 4,
  "vscode": {
   "interpreter": {
    "hash": "2043299c89c8cd0b4d1a6f5cf4529bd58e6a4e0fe3181a25e0d328c821cdc5c5"
   }
  }
 },
 "nbformat": 4,
 "nbformat_minor": 2
}
